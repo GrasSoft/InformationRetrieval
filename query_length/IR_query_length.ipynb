{
 "cells": [
  {
   "cell_type": "code",
   "execution_count": 5,
   "metadata": {},
   "outputs": [],
   "source": [
    "import pyterrier as pt\n",
    "import pandas as pd\n",
    "\n",
    "if not pt.java.started():\n",
    "    pt.init()\n",
    "\n",
    "arguana_dataset = pt.get_dataset('irds:beir/arguana')\n",
    "antique_dataset = pt.datasets.get_dataset(\"irds:antique/test/non-offensive\")"
   ]
  },
  {
   "cell_type": "markdown",
   "metadata": {},
   "source": [
    "This is for string length, below is an inplementation for the number of words threshold"
   ]
  },
  {
   "cell_type": "code",
   "execution_count": 9,
   "metadata": {},
   "outputs": [
    {
     "name": "stderr",
     "output_type": "stream",
     "text": [
      "beir/arguana documents: 100%|██████████| 8674/8674 [00:00<00:00, 224313.42it/s]\n"
     ]
    },
    {
     "name": "stdout",
     "output_type": "stream",
     "text": [
      "Arguana query length thresholds: 720.0 1101.0\n",
      "text\n",
      "large     2945\n",
      "medium    2865\n",
      "small     2864\n",
      "Name: count, dtype: int64\n"
     ]
    },
    {
     "name": "stderr",
     "output_type": "stream",
     "text": [
      "antique/test/non-offensive documents: 100%|██████████| 403666/403666 [00:00<00:00, 419571.65it/s]\n"
     ]
    },
    {
     "name": "stdout",
     "output_type": "stream",
     "text": [
      "Antique query length thresholds: 82.0 205.0\n",
      "text\n",
      "large     136816\n",
      "small     134266\n",
      "medium    132584\n",
      "Name: count, dtype: int64\n"
     ]
    }
   ],
   "source": [
    "def get_length_thresholds(queries):\n",
    "    lengths = queries.str.len()\n",
    "    # Calculate thresholds for small, medium, and large queries\n",
    "    small_threshold = lengths.quantile(0.33)\n",
    "    medium_threshold = lengths.quantile(0.66)\n",
    "    return small_threshold, medium_threshold\n",
    "\n",
    "\n",
    "def categorize_query_length(query, small, medium):\n",
    "    length = len(query)\n",
    "    if length <= small:\n",
    "        return 'small'\n",
    "    elif length <= medium:\n",
    "        return 'medium'\n",
    "    else:\n",
    "        return 'large'\n",
    "\n",
    "# Process Arguana dataset\n",
    "arguana_queries = pd.DataFrame(arguana_dataset.get_corpus_iter())['text']\n",
    "arguana_small, arguana_medium = get_length_thresholds(arguana_queries)\n",
    "arguana_categories = arguana_queries.apply(lambda x: categorize_query_length(x, arguana_small, arguana_medium))\n",
    "print(\"Arguana query length thresholds:\", arguana_small, arguana_medium)\n",
    "print(arguana_categories.value_counts())\n",
    "\n",
    "# Process Antique dataset\n",
    "antique_queries = pd.DataFrame(antique_dataset.get_corpus_iter())['text']\n",
    "antique_small, antique_medium = get_length_thresholds(antique_queries)\n",
    "antique_categories = antique_queries.apply(lambda x: categorize_query_length(x, antique_small, antique_medium))\n",
    "print(\"Antique query length thresholds:\", antique_small, antique_medium)\n",
    "print(antique_categories.value_counts())"
   ]
  },
  {
   "cell_type": "code",
   "execution_count": 12,
   "metadata": {},
   "outputs": [
    {
     "name": "stderr",
     "output_type": "stream",
     "text": [
      "beir/arguana documents: 100%|██████████| 8674/8674 [00:00<00:00, 225444.88it/s]\n"
     ]
    },
    {
     "name": "stdout",
     "output_type": "stream",
     "text": [
      "Arguana query length thresholds: 118.0 179.0\n",
      "text\n",
      "large     2923\n",
      "small     2892\n",
      "medium    2859\n",
      "Name: count, dtype: int64\n"
     ]
    },
    {
     "name": "stderr",
     "output_type": "stream",
     "text": [
      "antique/test/non-offensive documents: 100%|██████████| 403666/403666 [00:01<00:00, 400779.34it/s]\n"
     ]
    },
    {
     "name": "stdout",
     "output_type": "stream",
     "text": [
      "Antique query length thresholds: 15.0 38.0\n",
      "text\n",
      "small     136189\n",
      "large     134114\n",
      "medium    133363\n",
      "Name: count, dtype: int64\n"
     ]
    }
   ],
   "source": [
    "def get_length_thresholds_words(queries):\n",
    "    lengths = queries.str.split().str.len()\n",
    "    # Calculate thresholds for small, medium, and large queries\n",
    "    small_threshold = lengths.quantile(0.33)\n",
    "    medium_threshold = lengths.quantile(0.66)\n",
    "    return small_threshold, medium_threshold\n",
    "\n",
    "def categorize_query_length_words(query, small, medium):\n",
    "    length = len(query.split())\n",
    "    if length <= small:\n",
    "        return 'small'\n",
    "    elif length <= medium:\n",
    "        return 'medium'\n",
    "    else:\n",
    "        return 'large'\n",
    "\n",
    "arguana_queries = pd.DataFrame(arguana_dataset.get_corpus_iter())['text']\n",
    "arguana_small, arguana_medium = get_length_thresholds_words(arguana_queries)\n",
    "arguana_categories = arguana_queries.apply(lambda x: categorize_query_length_words(x, arguana_small, arguana_medium))\n",
    "print(\"Arguana query length thresholds:\", arguana_small, arguana_medium)\n",
    "print(arguana_categories.value_counts())\n",
    "\n",
    "# Process Antique dataset\n",
    "antique_queries = pd.DataFrame(antique_dataset.get_corpus_iter())['text']\n",
    "antique_small, antique_medium = get_length_thresholds_words(antique_queries)\n",
    "antique_categories = antique_queries.apply(lambda x: categorize_query_length_words(x, antique_small, antique_medium))\n",
    "print(\"Antique query length thresholds:\", antique_small, antique_medium)\n",
    "print(antique_categories.value_counts())\n"
   ]
  }
 ],
 "metadata": {
  "kernelspec": {
   "display_name": "soft_eng",
   "language": "python",
   "name": "python3"
  },
  "language_info": {
   "codemirror_mode": {
    "name": "ipython",
    "version": 3
   },
   "file_extension": ".py",
   "mimetype": "text/x-python",
   "name": "python",
   "nbconvert_exporter": "python",
   "pygments_lexer": "ipython3",
   "version": "3.12.8"
  }
 },
 "nbformat": 4,
 "nbformat_minor": 2
}
