{
 "cells": [
  {
   "cell_type": "code",
   "execution_count": null,
   "metadata": {},
   "outputs": [],
   "source": [
    "import pyterrier as pt\n",
    "import pandas as pd\n",
    "import os \n",
    "\n",
    "if not pt.java.started():\n",
    "    pt.init()\n",
    "\n",
    "arguana_dataset = pt.get_dataset('irds:beir/arguana')\n",
    "antique_dataset = pt.datasets.get_dataset(\"irds:antique/test/non-offensive\")"
   ]
  },
  {
   "cell_type": "code",
   "execution_count": null,
   "metadata": {},
   "outputs": [],
   "source": [
    "def get_length_thresholds(queries):\n",
    "    lengths = queries.str.len()\n",
    "    # Calculate thresholds for small, medium, and large queries\n",
    "    small_threshold = lengths.quantile(0.33)\n",
    "    medium_threshold = lengths.quantile(0.66)\n",
    "    return small_threshold, medium_threshold\n",
    "\n",
    "\n",
    "def categorize_query_length(query, small, medium):\n",
    "    length = len(query)\n",
    "    if length <= small:\n",
    "        return 'small'\n",
    "    elif length <= medium:\n",
    "        return 'medium'\n",
    "    else:\n",
    "        return 'large'\n",
    "\n",
    "\n",
    "# Process Arguana dataset\n",
    "arguana_queries = arguana_dataset.get_corpus()['query']\n",
    "arguana_small, arguana_medium = get_length_thresholds(arguana_queries)\n",
    "arguana_categories = arguana_queries.apply(lambda x: categorize_query_length(x, arguana_small, arguana_medium))\n",
    "print(\"Arguana query length thresholds:\", arguana_small, arguana_medium)\n",
    "print(arguana_categories.value_counts())\n",
    "\n",
    "# Process Antique dataset\n",
    "antique_queries = antique_dataset.get_corpus()['query']\n",
    "antique_small, antique_medium = get_length_thresholds(antique_queries)\n",
    "antique_categories = antique_queries.apply(lambda x: categorize_query_length(x, antique_small, antique_medium))\n",
    "print(\"Antique query length thresholds:\", antique_small, antique_medium)\n",
    "print(antique_categories.value_counts())"
   ]
  }
 ],
 "metadata": {
  "language_info": {
   "name": "python"
  }
 },
 "nbformat": 4,
 "nbformat_minor": 2
}
